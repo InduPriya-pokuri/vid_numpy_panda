{
 "cells": [
  {
   "cell_type": "code",
   "execution_count": 5,
   "metadata": {},
   "outputs": [
    {
     "name": "stdout",
     "output_type": "stream",
     "text": [
      "sdvgrUFHACBNM'PFUGVBJNJDFEBNDFJHBDNMSDKFJBDNSDSDDFDFDSDFJD\n"
     ]
    }
   ],
   "source": [
    "f=open(\"DataFiles/data.txt\",\"w\")\n",
    "data=input()\n",
    "f.write(data)\n",
    "f.close()"
   ]
  },
  {
   "cell_type": "code",
   "execution_count": 10,
   "metadata": {},
   "outputs": [
    {
     "name": "stdout",
     "output_type": "stream",
     "text": [
      "sdvgrUFHACBNM'PFUGVBJNJDFEBNDFJHBDNMSDKFJBDNSDSDDFDFDSDFJD\n"
     ]
    }
   ],
   "source": [
    "def ReadFile(fname):\n",
    "    \n",
    "    f=open(\"DataFiles/data.txt\",\"r\")\n",
    "    data=f.read()\n",
    "    print(data)\n",
    "    f.close()\n",
    "fname=\"DataFiles/data.txt\"\n",
    "ReadFile(fname)"
   ]
  },
  {
   "cell_type": "code",
   "execution_count": 11,
   "metadata": {},
   "outputs": [
    {
     "name": "stdout",
     "output_type": "stream",
     "text": [
      "sreevidyachintala\n"
     ]
    }
   ],
   "source": [
    "f=open(\"DataFiles/data.txt\",\"a\")\n",
    "data=input()\n",
    "f.write(data,end=' ')\n",
    "f.close()"
   ]
  },
  {
   "cell_type": "code",
   "execution_count": 16,
   "metadata": {},
   "outputs": [
    {
     "name": "stdout",
     "output_type": "stream",
     "text": [
      "1\n"
     ]
    }
   ],
   "source": [
    "fh=open(\"DataFiles/data.txt\",\"r\")\n",
    "lineno=1\n",
    "lines=fh.readlines()\n",
    "f=open(\"DataFiles/data.txt\",\"w\")\n",
    "for line in lines:\n",
    "    print(lineno,line,end=' ',sep='.',file=f)\n",
    "    lineno+=1\n",
    "print((lineno)-1)\n",
    "f.close()"
   ]
  },
  {
   "cell_type": "code",
   "execution_count": 19,
   "metadata": {},
   "outputs": [
    {
     "name": "stdout",
     "output_type": "stream",
     "text": [
      "1\n"
     ]
    }
   ],
   "source": [
    "word=0\n",
    "n_word=0\n",
    "fh=open(\"DataFiles/data.txt\",\"r\")\n",
    "for line in fh:\n",
    "    words=line.split()\n",
    "    n_word=len(words)\n",
    "print(n_word)\n",
    "fh.close()"
   ]
  },
  {
   "cell_type": "code",
   "execution_count": 20,
   "metadata": {},
   "outputs": [
    {
     "name": "stdout",
     "output_type": "stream",
     "text": [
      "81\n"
     ]
    }
   ],
   "source": [
    "charlist=0\n",
    "word=0\n",
    "f=open(\"DataFiles/data.txt\",\"r\")\n",
    "for line in f:\n",
    "    words=line.split()\n",
    "    word+=len(words)\n",
    "    charlist=sum(len(word) for word in words)\n",
    "print(charlist)\n"
   ]
  },
  {
   "cell_type": "code",
   "execution_count": null,
   "metadata": {},
   "outputs": [],
   "source": []
  }
 ],
 "metadata": {
  "kernelspec": {
   "display_name": "Python 3",
   "language": "python",
   "name": "python3"
  },
  "language_info": {
   "codemirror_mode": {
    "name": "ipython",
    "version": 3
   },
   "file_extension": ".py",
   "mimetype": "text/x-python",
   "name": "python",
   "nbconvert_exporter": "python",
   "pygments_lexer": "ipython3",
   "version": "3.7.3"
  }
 },
 "nbformat": 4,
 "nbformat_minor": 2
}
