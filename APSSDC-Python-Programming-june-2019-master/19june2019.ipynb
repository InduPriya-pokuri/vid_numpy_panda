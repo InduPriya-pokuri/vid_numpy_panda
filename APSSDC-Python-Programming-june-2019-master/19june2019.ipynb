{
 "cells": [
  {
   "cell_type": "code",
   "execution_count": 3,
   "metadata": {},
   "outputs": [
    {
     "name": "stdout",
     "output_type": "stream",
     "text": [
      "[0, 0, 0, 0, 0, 0, 0, 0, 0, 0, 0, 0, 0, 0, 0, 0, 0, 0, 0, 0, 0, 0, 0, 0, 0, 0]\n"
     ]
    }
   ],
   "source": [
    "#anagram\n",
    "a=\"ABC\"\n",
    "a1=[0]*26\n",
    "print(a1)"
   ]
  },
  {
   "cell_type": "code",
   "execution_count": 37,
   "metadata": {},
   "outputs": [
    {
     "name": "stdout",
     "output_type": "stream",
     "text": [
      "9\n",
      "2\n",
      "4\n"
     ]
    }
   ],
   "source": [
    "### Prime numbers\n",
    "\n",
    "n=int(input())\n",
    "\n",
    "if n>1:\n",
    "    for i in range(1,n):\n",
    "        if n%i==0:\n",
    "            #print(n,\"not a prime\" )\n",
    "            i=i+1\n",
    "            print(int(i))\n",
    "          \n",
    "        \n",
    "else:\n",
    "    print(n,\"is not a prime number\")\n",
    "            "
   ]
  },
  {
   "cell_type": "code",
   "execution_count": null,
   "metadata": {},
   "outputs": [],
   "source": [
    "from math import floor as fl\n",
    "#import math\n",
    "\n",
    " \n",
    "\n",
    "print(fl(123.4567))\n",
    "#math.pi\n",
    "\n",
    " \n",
    "\n",
    "print(pi)\n",
    "\n"
   ]
  },
  {
   "cell_type": "code",
   "execution_count": 1,
   "metadata": {},
   "outputs": [
    {
     "data": {
      "text/plain": [
       "'aBC'"
      ]
     },
     "execution_count": 1,
     "metadata": {},
     "output_type": "execute_result"
    }
   ],
   "source": [
    "def tString(s):\n",
    "    #s=list(s)\n",
    "    t=\"\"\n",
    "    for i in s:\n",
    "        if i.islower():\n",
    "            t +=i.upper()\n",
    "        else:\n",
    "            t +=i.lower()\n",
    "    return  t\n",
    "tString(\"Abc\")"
   ]
  },
  {
   "cell_type": "code",
   "execution_count": null,
   "metadata": {},
   "outputs": [
    {
     "name": "stdout",
     "output_type": "stream",
     "text": [
      "1 44 2 14\n",
      "0 30\n"
     ]
    }
   ],
   "source": [
    "s= \"1 44 2 14\"\n",
    "def minuteDiff(s):\n",
    "    s=s.split()\n",
    "    sh=int(s[0])\n",
    "    sm=int(s[1])\n",
    "    eh=int(s[2])\n",
    "    em=int(s[3])\n",
    "    startmin=(sh*60) + sm    \n",
    "    endmin=(eh * 60) +em\n",
    "    return endmin-startmin\n",
    "def outputTimeFormat(min):\n",
    "    hh=min//60\n",
    "    mm=min % 60\n",
    "    print(hh,mm)\n",
    "    return\n",
    "#n=int(input())\n",
    "for i in range(0,n):\n",
    "    s=input()\n",
    "    mins=minuteDiff(s)\n",
    "    outputTimeFormat(mins)"
   ]
  },
  {
   "cell_type": "code",
   "execution_count": 4,
   "metadata": {},
   "outputs": [
    {
     "name": "stdout",
     "output_type": "stream",
     "text": [
      "5\n",
      "1 2 3 4 5\n",
      "120\n"
     ]
    }
   ],
   "source": [
    "#Product\n",
    "n=int(input())\n",
    "x=input()\n",
    "answer=1\n",
    "x=x.split(\" \")\n",
    "for j in x:\n",
    "    answer=((answer* int(j))%(1000000007))\n",
    "print(answer)"
   ]
  },
  {
   "cell_type": "code",
   "execution_count": 6,
   "metadata": {},
   "outputs": [
    {
     "name": "stdout",
     "output_type": "stream",
     "text": [
      "YES\n"
     ]
    }
   ],
   "source": [
    "##Palindrome\n",
    "def Palindrome(i):\n",
    "    s=i[::-1]\n",
    "    if s==i:\n",
    "        print(\"YES\")\n",
    "    else:\n",
    "        print(\"NO\")\n",
    "Palindrome(\"aba\")"
   ]
  },
  {
   "cell_type": "code",
   "execution_count": 10,
   "metadata": {},
   "outputs": [
    {
     "name": "stdout",
     "output_type": "stream",
     "text": [
      "5\n",
      "120\n"
     ]
    }
   ],
   "source": [
    "## Factorial\n",
    "\n",
    "n=int(input())\n",
    "fact=1\n",
    "if n<0:\n",
    "    print(\"doesnot exists\")\n",
    "elif n==0:\n",
    "    print(\"factorial of 0 is 1\")\n",
    "else:\n",
    "    for i in range(1,n+1):\n",
    "        fact=fact*i\n",
    "    print(fact)"
   ]
  },
  {
   "cell_type": "code",
   "execution_count": null,
   "metadata": {},
   "outputs": [],
   "source": [
    "## e-maze-in\n",
    "a=0\n",
    "b=0\n",
    "n=input()\n",
    "for i in n:\n",
    "    if i=='L':\n",
    "        a=a-1\n",
    "    elif i=='R':\n",
    "        a=a+1\n",
    "    elif i=='U':\n",
    "        b=b+1\n",
    "    else:\n",
    "        b=b-1\n",
    "print(a,b)\n",
    "        \n"
   ]
  },
  {
   "cell_type": "code",
   "execution_count": null,
   "metadata": {},
   "outputs": [],
   "source": [
    "## Play With numbers\n",
    "n=input.split()\n",
    "n[0],n[1]=int(n[0]),int(n[1])\n",
    "a=input().split()\n",
    "sum=[]\n",
    "for i in range(0,n[0]):\n",
    "    if i==0:\n",
    "        sum.append(int(a[i]))\n",
    "    else:\n",
    "        sum.append(int(sum[i-1])+int(a[i]))\n",
    "del a\n",
    "\n",
    "for k in range(0,n[1]):\n",
    "    y=input().spli()\n",
    "    i=int(y[0])\n",
    "    j=int(y[1])\n",
    "    if i>1:\n",
    "        print((sum[j-1])-sum[i-2])//(j-i+1))\n",
    "    else:\n",
    "        print(sum[j-1]//(j-i+1))"
   ]
  }
 ],
 "metadata": {
  "kernelspec": {
   "display_name": "Python 3",
   "language": "python",
   "name": "python3"
  },
  "language_info": {
   "codemirror_mode": {
    "name": "ipython",
    "version": 3
   },
   "file_extension": ".py",
   "mimetype": "text/x-python",
   "name": "python",
   "nbconvert_exporter": "python",
   "pygments_lexer": "ipython3",
   "version": "3.7.3"
  }
 },
 "nbformat": 4,
 "nbformat_minor": 2
}
