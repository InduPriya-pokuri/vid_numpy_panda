{
 "cells": [
  {
   "cell_type": "code",
   "execution_count": 5,
   "metadata": {},
   "outputs": [
    {
     "data": {
      "text/plain": [
       "'PYTHON'"
      ]
     },
     "execution_count": 5,
     "metadata": {},
     "output_type": "execute_result"
    }
   ],
   "source": [
    "#Function To Toggle String Character\n",
    "s=\"python\"\n",
    "s.isupper()\n",
    "s.islower()\n",
    "\n",
    "s.lower()\n",
    "s.upper()\n"
   ]
  },
  {
   "cell_type": "code",
   "execution_count": 10,
   "metadata": {},
   "outputs": [
    {
     "data": {
      "text/plain": [
       "'aBC'"
      ]
     },
     "execution_count": 10,
     "metadata": {},
     "output_type": "execute_result"
    }
   ],
   "source": [
    "# Function To Toggle String Character\n",
    "\n",
    "def tString(s):\n",
    "    #s=list(s)\n",
    "    t=\"\"\n",
    "    for i in s:\n",
    "        if i.islower():\n",
    "            t +=i.upper()\n",
    "        else:\n",
    "            t +=i.lower()\n",
    "    return  t\n",
    "tString(\"Abc\")"
   ]
  },
  {
   "cell_type": "code",
   "execution_count": 14,
   "metadata": {},
   "outputs": [
    {
     "name": "stdout",
     "output_type": "stream",
     "text": [
      "5.683333333333334 41\n"
     ]
    }
   ],
   "source": [
    "# Duration\n",
    "s= \"2 42 8 23\"\n",
    "def minuteDiff(s):\n",
    "    s=s.split()\n",
    "    sh=int(s[0])\n",
    "    sm=int(s[1])\n",
    "    eh=int(s[2])\n",
    "    em=int(s[3])\n",
    "    startmin=(sh*60) + sm    \n",
    "    endmin=(eh * 60) +em\n",
    "    return endmin-startmin\n",
    "def outputTimeFormat(min):\n",
    "    hh=min/60\n",
    "    mm=min % 60\n",
    "    print(hh,mm)\n",
    "    return\n",
    "\n",
    "mins=minuteDiff(s)\n",
    "outputTimeFormat(mins)\n",
    "\n",
    "\n"
   ]
  },
  {
   "cell_type": "code",
   "execution_count": null,
   "metadata": {},
   "outputs": [],
   "source": [
    "\n",
    "\n",
    "\n"
   ]
  }
 ],
 "metadata": {
  "kernelspec": {
   "display_name": "Python 3",
   "language": "python",
   "name": "python3"
  },
  "language_info": {
   "codemirror_mode": {
    "name": "ipython",
    "version": 3
   },
   "file_extension": ".py",
   "mimetype": "text/x-python",
   "name": "python",
   "nbconvert_exporter": "python",
   "pygments_lexer": "ipython3",
   "version": "3.7.3"
  }
 },
 "nbformat": 4,
 "nbformat_minor": 2
}
