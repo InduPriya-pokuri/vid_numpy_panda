{
 "cells": [
  {
   "cell_type": "code",
   "execution_count": 1,
   "metadata": {},
   "outputs": [
    {
     "name": "stdout",
     "output_type": "stream",
     "text": [
      "10 9 8 7 6 5 4 3 2 "
     ]
    }
   ],
   "source": [
    "# function to print reverse of given range in the \n",
    "def reverseRange(start,end):\n",
    "    for v in range(end,start,-1):\n",
    "        print(v,end=' ')\n",
    "    return\n",
    "reverseRange(1,10)"
   ]
  },
  {
   "cell_type": "code",
   "execution_count": 2,
   "metadata": {},
   "outputs": [
    {
     "name": "stdout",
     "output_type": "stream",
     "text": [
      "9 7 5 3 1 "
     ]
    }
   ],
   "source": [
    "# print the odd num in reverse order\n",
    "def reversetheoddnum(start,end):\n",
    "    for i in range(end,start-1,-1):\n",
    "        if i%2==1:\n",
    "            print(i,end=\" \")\n",
    "    return \n",
    "reversetheoddnum(1,10)"
   ]
  },
  {
   "cell_type": "code",
   "execution_count": 3,
   "metadata": {},
   "outputs": [
    {
     "data": {
      "text/plain": [
       "15"
      ]
     },
     "execution_count": 3,
     "metadata": {},
     "output_type": "execute_result"
    }
   ],
   "source": [
    "#fun to cal sum of nums in range\n",
    "def sumofrange(start,end):\n",
    "    s=0\n",
    "    for i in range(start,end+1):\n",
    "        s+=i\n",
    "    return s\n",
    "sumofrange(1,5)"
   ]
  },
  {
   "cell_type": "code",
   "execution_count": 4,
   "metadata": {},
   "outputs": [
    {
     "data": {
      "text/plain": [
       "3"
      ]
     },
     "execution_count": 4,
     "metadata": {},
     "output_type": "execute_result"
    }
   ],
   "source": [
    "# cal the avg of range of numbers\n",
    "def avgofrange(start,end):\n",
    "    s=0\n",
    "    c=0\n",
    "    for i in range(start,end+1):\n",
    "        s+=i\n",
    "        c+=1\n",
    "    return s//c\n",
    "avgofrange(1,5)"
   ]
  },
  {
   "cell_type": "code",
   "execution_count": 5,
   "metadata": {},
   "outputs": [
    {
     "data": {
      "text/plain": [
       "6"
      ]
     },
     "execution_count": 5,
     "metadata": {},
     "output_type": "execute_result"
    }
   ],
   "source": [
    "# cal the avg of range of numbers Same as above\n",
    "def avgrange(s,e):\n",
    "    return sum(range(s,e))//(e-s)+1\n",
    "avgrange(1,10)"
   ]
  },
  {
   "cell_type": "code",
   "execution_count": 6,
   "metadata": {},
   "outputs": [
    {
     "name": "stdout",
     "output_type": "stream",
     "text": [
      "2000 2004 2008 2012 2016 2020 "
     ]
    }
   ],
   "source": [
    "# function to print all leap years in a given time period \n",
    "# 2000 2020 -> 2000 2004 2008 2012 2016 2020\n",
    "\n",
    "def isLeapyear(year):\n",
    "    if year%400==0 or (year%100!=0 and year%4==0):\n",
    "        return True\n",
    "    return False\n",
    "def generateLeapYear(s,e):\n",
    "    for i in range(s,e+1):\n",
    "        if isLeapyear(i):\n",
    "            print(i,end=\" \")\n",
    "generateLeapYear(2000,2020)"
   ]
  },
  {
   "cell_type": "code",
   "execution_count": 7,
   "metadata": {},
   "outputs": [
    {
     "data": {
      "text/plain": [
       "731"
      ]
     },
     "execution_count": 7,
     "metadata": {},
     "output_type": "execute_result"
    }
   ],
   "source": [
    "# cal num of days in a time period using leap year logic\n",
    "def numofdaysintimeperiod(s,e):\n",
    "    days=0\n",
    "    for i in range(s,e+1):\n",
    "        if isLeapyear(i):\n",
    "            days+=366\n",
    "        else:\n",
    "            days+=365\n",
    "    return days\n",
    "numofdaysintimeperiod(2016,2017)"
   ]
  },
  {
   "cell_type": "code",
   "execution_count": 8,
   "metadata": {},
   "outputs": [
    {
     "name": "stdout",
     "output_type": "stream",
     "text": [
      "366\n"
     ]
    }
   ],
   "source": [
    "def myFun(start,end):\n",
    "    count=start\n",
    "    days = 0 \n",
    "    while (count<end):\n",
    "        if isLeapyear(count):\n",
    "            days += 366\n",
    "        else:\n",
    "            days += 365\n",
    "        count += 1\n",
    "    return days\n",
    "print(myFun(2016,2017))"
   ]
  },
  {
   "cell_type": "code",
   "execution_count": 16,
   "metadata": {},
   "outputs": [
    {
     "name": "stdout",
     "output_type": "stream",
     "text": [
      "731\n"
     ]
    }
   ],
   "source": [
    "# fun to cal num of hrs for a given period in range\n",
    "# 11,1975,3,1999\n",
    "def hrrange(d1,m1,y1,d2,m2,y2):\n",
    "    months = {1:31,2:28,3:31,4:30,5:31,6:30,7:31,8:31,9:30,10:31,11:30,12:31}\n",
    "    days = d1+d2\n",
    "    \n",
    "    print(myFun(y1,y2))        \n",
    "hrrange(1,1,2016,1,1,2018)"
   ]
  },
  {
   "cell_type": "code",
   "execution_count": null,
   "metadata": {},
   "outputs": [],
   "source": []
  },
  {
   "cell_type": "code",
   "execution_count": 17,
   "metadata": {},
   "outputs": [],
   "source": [
    "months = {1:31,2:28,3:31,4:30,5:31,6:30,7:31,8:31,9:30,10:31,11:30,12:31}"
   ]
  },
  {
   "cell_type": "code",
   "execution_count": 15,
   "metadata": {},
   "outputs": [
    {
     "data": {
      "text/plain": [
       "364"
      ]
     },
     "execution_count": 15,
     "metadata": {},
     "output_type": "execute_result"
    }
   ],
   "source": [
    "sum(list(months.values()))"
   ]
  },
  {
   "cell_type": "code",
   "execution_count": null,
   "metadata": {},
   "outputs": [],
   "source": []
  },
  {
   "cell_type": "markdown",
   "metadata": {},
   "source": [
    "\n",
    "### Function to calculate number of hours in a year\n",
    "noDays(02,2016,04,2017)"
   ]
  },
  {
   "cell_type": "markdown",
   "metadata": {},
   "source": [
    "1. start month year to end of year\n",
    "2. Calculate days from all years between start year \n",
    "\n",
    "\n",
    "\n",
    "\n",
    "\n",
    "#### Excluding Feb"
   ]
  },
  {
   "cell_type": "code",
   "execution_count": 60,
   "metadata": {},
   "outputs": [],
   "source": [
    "def daysMonth(month):\n",
    "    if (month<=7 and month%2!=0) or (month >7 and month%2==0 and month!=2):\n",
    "        return 31\n",
    "    elif month!=2:\n",
    "        return 30\n",
    "    else :\n",
    "        return 28"
   ]
  },
  {
   "cell_type": "code",
   "execution_count": 84,
   "metadata": {},
   "outputs": [],
   "source": [
    "def daysBwMonths(start,end,year):\n",
    "    #print('start',start,'end',end,'year',year)\n",
    "    days = 0\n",
    "    for month in range(start,end+1):\n",
    "        temp_days = daysMonth(month)\n",
    "        #print(month, temp_days)\n",
    "        days += temp_days\n",
    "        if month == 2 and isLeapyear(year):\n",
    "            days += 1\n",
    "    #print('days',days)\n",
    "    return days"
   ]
  },
  {
   "cell_type": "code",
   "execution_count": 88,
   "metadata": {},
   "outputs": [
    {
     "name": "stdout",
     "output_type": "stream",
     "text": [
      "step1 366\n",
      "step2 0\n",
      "step3 31\n"
     ]
    },
    {
     "data": {
      "text/plain": [
       "397"
      ]
     },
     "execution_count": 88,
     "metadata": {},
     "output_type": "execute_result"
    }
   ],
   "source": [
    "def findDays(month1,year1,month2,year2):\n",
    "    days = 0\n",
    "    start = month1\n",
    "    if year1==year2:\n",
    "        end = month2\n",
    "    else:\n",
    "        end = 12\n",
    "    days += daysBwMonths(start,end,year1)\n",
    "    if year1 == year2:\n",
    "        return days\n",
    "    print('step1',days)\n",
    "    step1 = days\n",
    "    years_count = year1+1\n",
    "    for each_year in range(years_count,year2):\n",
    "        if isLeapyear(each_year):\n",
    "            days += 1\n",
    "        days += 365\n",
    "    step2 = days-step1\n",
    "    print('step2',step2)\n",
    "    days += daysBwMonths(1,month2,year2)\n",
    "    step3 = days-step2-step1\n",
    "    print('step3',step3)\n",
    "    return days\n",
    "findDays(1,2016,1,2017)   \n",
    "        "
   ]
  },
  {
   "cell_type": "code",
   "execution_count": null,
   "metadata": {},
   "outputs": [],
   "source": []
  },
  {
   "cell_type": "code",
   "execution_count": null,
   "metadata": {},
   "outputs": [],
   "source": []
  },
  {
   "cell_type": "code",
   "execution_count": null,
   "metadata": {},
   "outputs": [],
   "source": []
  },
  {
   "cell_type": "code",
   "execution_count": null,
   "metadata": {},
   "outputs": [],
   "source": []
  },
  {
   "cell_type": "code",
   "execution_count": null,
   "metadata": {},
   "outputs": [],
   "source": []
  },
  {
   "cell_type": "code",
   "execution_count": null,
   "metadata": {},
   "outputs": [],
   "source": []
  },
  {
   "cell_type": "code",
   "execution_count": null,
   "metadata": {},
   "outputs": [],
   "source": []
  },
  {
   "cell_type": "markdown",
   "metadata": {},
   "source": [
    "# Optional practies \n",
    "- fn to generate n odd armstrong numbers\n",
    "    - i/p-- 4\n",
    "    - o/p-- 1, 3, 5, 7.\n",
    "- fn to cal avg of all factorials in a given range\n",
    "    - i/p-- 2-4\n",
    "    - o/p-- (2!+3!+4!)/3\n",
    "- fn to generate multiplication table for a number in a given range\n",
    "    - i/p-- 2-4\n",
    "    - o/p-- 2 table 3 table 4 table"
   ]
  },
  {
   "cell_type": "code",
   "execution_count": 25,
   "metadata": {
    "collapsed": true
   },
   "outputs": [
    {
     "name": "stdout",
     "output_type": "stream",
     "text": [
      "1  TABLE\n",
      "----------\n",
      "1 * 1 = 1\n",
      "1 * 2 = 2\n",
      "1 * 3 = 3\n",
      "1 * 4 = 4\n",
      "1 * 5 = 5\n",
      "1 * 6 = 6\n",
      "1 * 7 = 7\n",
      "1 * 8 = 8\n",
      "1 * 9 = 9\n",
      "1 * 10 = 10\n",
      "          \n",
      "----------\n",
      "2  TABLE\n",
      "----------\n",
      "2 * 1 = 2\n",
      "2 * 2 = 4\n",
      "2 * 3 = 6\n",
      "2 * 4 = 8\n",
      "2 * 5 = 10\n",
      "2 * 6 = 12\n",
      "2 * 7 = 14\n",
      "2 * 8 = 16\n",
      "2 * 9 = 18\n",
      "2 * 10 = 20\n",
      "          \n",
      "----------\n"
     ]
    }
   ],
   "source": [
    "\n",
    "def print_tables(start,stop):\n",
    "    for each in range(start,stop+1):\n",
    "        print(each,' TABLE')\n",
    "        print('-'*10)\n",
    "        for num in range(1,11):\n",
    "            print(each,'*',num,'=',each*num)\n",
    "        print(' '*10,'-'*10,sep='\\n')\n",
    "            \n",
    "print_tables(1,2)"
   ]
  },
  {
   "cell_type": "code",
   "execution_count": null,
   "metadata": {},
   "outputs": [],
   "source": []
  }
 ],
 "metadata": {
  "kernelspec": {
   "display_name": "Python 3",
   "language": "python",
   "name": "python3"
  },
  "language_info": {
   "codemirror_mode": {
    "name": "ipython",
    "version": 3
   },
   "file_extension": ".py",
   "mimetype": "text/x-python",
   "name": "python",
   "nbconvert_exporter": "python",
   "pygments_lexer": "ipython3",
   "version": "3.7.3"
  }
 },
 "nbformat": 4,
 "nbformat_minor": 2
}
