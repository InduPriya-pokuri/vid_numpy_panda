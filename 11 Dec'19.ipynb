{
 "cells": [
  {
   "cell_type": "markdown",
   "metadata": {},
   "source": [
    "# functions\n",
    "1. userdefined\n",
    "2. buil_in"
   ]
  },
  {
   "cell_type": "code",
   "execution_count": null,
   "metadata": {},
   "outputs": [],
   "source": [
    "def functionname():\n",
    "    -b-------\n",
    "functionname()"
   ]
  },
  {
   "cell_type": "code",
   "execution_count": 1,
   "metadata": {},
   "outputs": [
    {
     "name": "stdout",
     "output_type": "stream",
     "text": [
      "welcome\n"
     ]
    }
   ],
   "source": [
    "def sample():\n",
    "    print(\"welcome\")\n",
    "sample()"
   ]
  },
  {
   "cell_type": "code",
   "execution_count": 2,
   "metadata": {},
   "outputs": [
    {
     "name": "stdout",
     "output_type": "stream",
     "text": [
      "archana\n",
      "welcome archana\n"
     ]
    }
   ],
   "source": [
    "name = input()\n",
    "def sample1(name):\n",
    "    print(\"welcome\",name)\n",
    "sample1(name)"
   ]
  },
  {
   "cell_type": "code",
   "execution_count": 6,
   "metadata": {},
   "outputs": [
    {
     "name": "stdout",
     "output_type": "stream",
     "text": [
      "welcome vidya\n"
     ]
    }
   ],
   "source": [
    "#name = input()\n",
    "def sample1(n='archana'):\n",
    "    print(\"welcome\",n)\n",
    "sample1('vidya')"
   ]
  },
  {
   "cell_type": "code",
   "execution_count": 9,
   "metadata": {},
   "outputs": [
    {
     "name": "stdout",
     "output_type": "stream",
     "text": [
      "name is: archana\n",
      "age is: 25\n"
     ]
    }
   ],
   "source": [
    "#default arguments\n",
    "def sample(name='archana',age=25):\n",
    "    print(\"name is:\",name)\n",
    "    print(\"age is:\",age)\n",
    "sample('archana')"
   ]
  },
  {
   "cell_type": "code",
   "execution_count": 10,
   "metadata": {},
   "outputs": [
    {
     "name": "stdout",
     "output_type": "stream",
     "text": [
      "archana python dev\n",
      "archana\n",
      "python\n",
      "dev\n"
     ]
    }
   ],
   "source": [
    "# variable length\n",
    "def var(*arg):\n",
    "    for i in l:\n",
    "        print(i)\n",
    "\n",
    "l = input().split()\n",
    "var(l)"
   ]
  },
  {
   "cell_type": "code",
   "execution_count": 11,
   "metadata": {},
   "outputs": [
    {
     "name": "stdout",
     "output_type": "stream",
     "text": [
      "even\n"
     ]
    }
   ],
   "source": [
    "from packages.sample import even as e\n",
    "e(6)"
   ]
  },
  {
   "cell_type": "code",
   "execution_count": null,
   "metadata": {},
   "outputs": [],
   "source": []
  }
 ],
 "metadata": {
  "kernelspec": {
   "display_name": "Python 3",
   "language": "python",
   "name": "python3"
  },
  "language_info": {
   "codemirror_mode": {
    "name": "ipython",
    "version": 3
   },
   "file_extension": ".py",
   "mimetype": "text/x-python",
   "name": "python",
   "nbconvert_exporter": "python",
   "pygments_lexer": "ipython3",
   "version": "3.7.3"
  }
 },
 "nbformat": 4,
 "nbformat_minor": 2
}
